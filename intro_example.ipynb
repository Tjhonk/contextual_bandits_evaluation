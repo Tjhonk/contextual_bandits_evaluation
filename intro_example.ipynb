{
 "cells": [
  {
   "cell_type": "code",
   "execution_count": 1,
   "metadata": {},
   "outputs": [],
   "source": [
    "from time import time\n",
    "import pickle\n",
    "import os\n",
    "import numpy as np\n",
    "from adaptive.experiment import run_mab_experiment\n",
    "from adaptive.compute import fill_up, collect\n",
    "from adaptive.inference import aw_scores, sample_mean\n",
    "import matplotlib.pyplot as plt\n",
    "import seaborn as sns\n",
    "import pandas as pd\n",
    "\n",
    "sns.set(font_scale=1.2)\n",
    "%matplotlib inline\n",
    "%reload_ext autoreload\n",
    "%autoreload 2\n",
    "plt.rc('text', usetex=True)\n",
    "plt.rc('font', family='serif')"
   ]
  },
  {
   "cell_type": "markdown",
   "metadata": {},
   "source": [
    "# Introduction Example\n",
    "\n",
    "DGP: run a contextual bandit experiment with a Thompson sampling agent, collecting $1000$ observations for one simulation.  \n",
    "- context space $\\{x_0, x_1, x_2, x_3, x_4\\}$ with probability $[0.6, 0.1, 0.1, 0.1]$. \n",
    "- arms: $\\{w_0, w_1, w_2, w_3, w_4\\}$ \n",
    "- potential outcomes of $x_i$ assigned to $w_j$: $0.5\\cdot 1_{i=j} + \\mathcal{N}(0,1)$\n",
    "- agent: Thompson sampling with floor $0.2t^{-0.7}$\n",
    "\n",
    "Target policy: always assigning treatment $W_t=w_0$.\n",
    "\n",
    "Compared estimators: Direct Method (DM) and Doubly Robust (DR)."
   ]
  },
  {
   "cell_type": "code",
   "execution_count": 2,
   "metadata": {},
   "outputs": [],
   "source": [
    "K = 5  # number of arms\n",
    "N = 5  # number of different context\n",
    "initial = 2  # initial number of samples of each arm to do pure exploration\n",
    "floor_start = 1/K\n",
    "floor_decay = 0.7\n",
    "noise_scale = 1.0\n",
    "signal = 0.5\n",
    "T = 1000"
   ]
  },
  {
   "cell_type": "code",
   "execution_count": 3,
   "metadata": {},
   "outputs": [],
   "source": [
    "p_X = [0.6, 0.1, 0.1, 0.1, 0.1]\n",
    "truth = np.eye(K) * signal\n",
    "w_optimal_X = np.eye(K)\n",
    "mu_K = np.transpose(truth).dot(p_X)"
   ]
  },
  {
   "cell_type": "code",
   "execution_count": 4,
   "metadata": {},
   "outputs": [],
   "source": [
    "arm=0\n",
    "sim = 1000\n",
    "DM = []\n",
    "AIPW = []"
   ]
  },
  {
   "cell_type": "markdown",
   "metadata": {},
   "source": [
    "## Run simulations"
   ]
  },
  {
   "cell_type": "code",
   "execution_count": 5,
   "metadata": {},
   "outputs": [
    {
     "name": "stderr",
     "output_type": "stream",
     "text": [
      "C:\\Users\\Jhon\\AppData\\Local\\Temp\\ipykernel_9360\\2924727877.py:12: DeprecationWarning: `np.int` is a deprecated alias for the builtin `int`. To silence this warning, use `int` by itself. Doing this will not modify any behavior and is safe. When replacing `np.int`, you may wish to use e.g. `np.int64` or `np.int32` to specify the precision. If you wish to review your current use, check the release note link for additional information.\n",
      "Deprecated in NumPy 1.20; for more details and guidance: https://numpy.org/devdocs/release/1.20.0-notes.html#deprecations\n",
      "  arms = np.zeros(T, dtype=np.int)\n"
     ]
    }
   ],
   "source": [
    "Probs = []\n",
    "for _ in range(sim):\n",
    "    \"\"\" Generate data \"\"\"\n",
    "    xs = np.random.choice(a=N, size=T, p=p_X)\n",
    "    noise = np.random.normal(loc=0.0, scale=noise_scale, size=(T, K))\n",
    "    #noise = np.random.uniform(-noise_scale, noise_scale, size=(T, K))\n",
    "    #R = noise_scale * 2\n",
    "    ys = truth[xs] + noise\n",
    "    \"\"\" Run experiment \"\"\"\n",
    "    probs = np.zeros((T, N, K))\n",
    "    rewards = np.zeros(T)\n",
    "    arms = np.zeros(T, dtype=np.int)\n",
    "    muhat = np.zeros((T, K))\n",
    "    for n in range(N):\n",
    "        idx = xs == n\n",
    "        data = run_mab_experiment(\n",
    "            ys[idx],\n",
    "            initial=initial,\n",
    "            floor_start=floor_start,\n",
    "            floor_decay=floor_decay)\n",
    "        P = data['probs']\n",
    "        idx_a = np.where(xs == n)[0]\n",
    "        if idx_a[-1] < T-1:\n",
    "            idx_a = np.concatenate([idx_a, [T-1]])\n",
    "            P = np.concatenate([P, [data['future_p']]], axis=0)\n",
    "        probs[:, n, :] = fill_up(T, idx_a, P)\n",
    "        rewards[idx] = data['rewards']\n",
    "        arms[idx] = data['arms']\n",
    "        muhat[idx] = sample_mean(rewards[idx], arms[idx], K)[-1]\n",
    "    balwts = 1 / collect(probs[np.arange(T), xs], arms)\n",
    "    scores = aw_scores(rewards, arms, balwts, K, muhat)\n",
    "    # add best arm policy\n",
    "    Probs.append(probs[:, :, arm])\n",
    "    best_mtx = np.zeros((T, K))\n",
    "    best_mtx[:, arm] = 1\n",
    "    qx = truth[:, arm] * p_X\n",
    "    DM.append(np.mean(np.sum(muhat * best_mtx, axis=1)))\n",
    "    AIPW.append(np.mean(np.sum(scores * best_mtx, axis=1)))"
   ]
  },
  {
   "cell_type": "markdown",
   "metadata": {},
   "source": [
    "## Boxplot of estimates of DM and DR"
   ]
  },
  {
   "cell_type": "code",
   "execution_count": 6,
   "metadata": {},
   "outputs": [
    {
     "name": "stdout",
     "output_type": "stream",
     "text": [
      "DM bias: -0.08108476012301627, std: 0.10107578424980213\n",
      "AIPW bias: -0.01097957873294475, std: 0.15467683029862736\n"
     ]
    },
    {
     "data": {
      "image/png": "[encoded data removed]",
      "text/plain": [
       "<Figure size 432x288 with 1 Axes>"
      ]
     },
     "metadata": {},
     "output_type": "display_data"
    }
   ],
   "source": [
    "print(f\"DM bias: {np.mean(DM) - mu_K[arm]}, std: {np.std(DM)}\")\n",
    "print(f\"AIPW bias: {np.mean(AIPW) - mu_K[arm]}, std: {np.std(AIPW)}\")\n",
    "dataset_1 = pd.DataFrame({'method':['DM']*len(DM), 'eval': np.array(DM)})\n",
    "dataset_2 = pd.DataFrame({'method':['DR']*len(AIPW), 'eval': np.array(AIPW)})\n",
    "dataset = pd.concat([dataset_1, dataset_2])\n",
    "sns.set(style='white', font_scale=1.5)\n",
    "f, ax = plt.subplots()\n",
    "ax.axhline(y=mu_K[arm], color='k', linestyle='--', label='truth')\n",
    "sns.boxplot(x='method', y='eval', data=dataset)\n",
    "ax.set_xlabel('')\n",
    "ax.legend()\n",
    "ax.set_ylabel('Estimate')\n",
    "plt.tight_layout()\n",
    "plt.savefig('intro.pdf')"
   ]
  },
  {
   "cell_type": "markdown",
   "metadata": {},
   "source": [
    "## Evolution of variance proxy over time with different covariates"
   ]
  },
  {
   "cell_type": "code",
   "execution_count": 7,
   "metadata": {},
   "outputs": [
    {
     "name": "stderr",
     "output_type": "stream",
     "text": [
      "c:\\Python38\\lib\\site-packages\\seaborn\\_core.py:1057: FutureWarning: reindexing with a non-unique Index is deprecated and will raise in a future version.\n",
      "  comp_col.loc[orig.index] = pd.to_numeric(axis.convert_units(orig))\n"
     ]
    },
    {
     "ename": "ValueError",
     "evalue": "cannot reindex on an axis with duplicate labels",
     "output_type": "error",
     "traceback": [
      "\u001b[1;31m---------------------------------------------------------------------------\u001b[0m",
      "\u001b[1;31mValueError\u001b[0m                                Traceback (most recent call last)",
      "\u001b[1;32mc:\\Users\\Jhon\\Documents\\tjhonk_test\\contextual_bandits_evaluation\\intro_example.ipynb Cell 11\u001b[0m in \u001b[0;36m<cell line: 13>\u001b[1;34m()\u001b[0m\n\u001b[0;32m     <a href='vscode-notebook-cell:/c%3A/Users/Jhon/Documents/tjhonk_test/contextual_bandits_evaluation/intro_example.ipynb#X13sZmlsZQ%3D%3D?line=10'>11</a>\u001b[0m hue_order \u001b[39m=\u001b[39m [\u001b[39mstr\u001b[39m(i) \u001b[39mfor\u001b[39;00m i \u001b[39min\u001b[39;00m \u001b[39mrange\u001b[39m(K)]\n\u001b[0;32m     <a href='vscode-notebook-cell:/c%3A/Users/Jhon/Documents/tjhonk_test/contextual_bandits_evaluation/intro_example.ipynb#X13sZmlsZQ%3D%3D?line=11'>12</a>\u001b[0m hue_order\u001b[39m.\u001b[39mappend(\u001b[39m'\u001b[39m\u001b[39mE\u001b[39m\u001b[39m'\u001b[39m)\n\u001b[1;32m---> <a href='vscode-notebook-cell:/c%3A/Users/Jhon/Documents/tjhonk_test/contextual_bandits_evaluation/intro_example.ipynb#X13sZmlsZQ%3D%3D?line=12'>13</a>\u001b[0m g \u001b[39m=\u001b[39m sns\u001b[39m.\u001b[39;49mrelplot(data\u001b[39m=\u001b[39;49mdf, kind\u001b[39m=\u001b[39;49m\u001b[39m'\u001b[39;49m\u001b[39mline\u001b[39;49m\u001b[39m'\u001b[39;49m, x\u001b[39m=\u001b[39;49m\u001b[39m'\u001b[39;49m\u001b[39mt\u001b[39;49m\u001b[39m'\u001b[39;49m, y\u001b[39m=\u001b[39;49m\u001b[39m'\u001b[39;49m\u001b[39m$1/e_t$\u001b[39;49m\u001b[39m'\u001b[39;49m, hue\u001b[39m=\u001b[39;49m\u001b[39m'\u001b[39;49m\u001b[39mValue\u001b[39;49m\u001b[39m'\u001b[39;49m, \n\u001b[0;32m     <a href='vscode-notebook-cell:/c%3A/Users/Jhon/Documents/tjhonk_test/contextual_bandits_evaluation/intro_example.ipynb#X13sZmlsZQ%3D%3D?line=13'>14</a>\u001b[0m                 aspect\u001b[39m=\u001b[39;49m\u001b[39m1.0\u001b[39;49m, \n\u001b[0;32m     <a href='vscode-notebook-cell:/c%3A/Users/Jhon/Documents/tjhonk_test/contextual_bandits_evaluation/intro_example.ipynb#X13sZmlsZQ%3D%3D?line=14'>15</a>\u001b[0m                 hue_order\u001b[39m=\u001b[39;49mhue_order,\n\u001b[0;32m     <a href='vscode-notebook-cell:/c%3A/Users/Jhon/Documents/tjhonk_test/contextual_bandits_evaluation/intro_example.ipynb#X13sZmlsZQ%3D%3D?line=15'>16</a>\u001b[0m                 palette\u001b[39m=\u001b[39;49m[\u001b[39m*\u001b[39;49msns\u001b[39m.\u001b[39;49mcolor_palette()[:K], \u001b[39m'\u001b[39;49m\u001b[39mk\u001b[39;49m\u001b[39m'\u001b[39;49m],\n\u001b[0;32m     <a href='vscode-notebook-cell:/c%3A/Users/Jhon/Documents/tjhonk_test/contextual_bandits_evaluation/intro_example.ipynb#X13sZmlsZQ%3D%3D?line=16'>17</a>\u001b[0m                 style\u001b[39m=\u001b[39;49m\u001b[39m'\u001b[39;49m\u001b[39mStyle\u001b[39;49m\u001b[39m'\u001b[39;49m,\n\u001b[0;32m     <a href='vscode-notebook-cell:/c%3A/Users/Jhon/Documents/tjhonk_test/contextual_bandits_evaluation/intro_example.ipynb#X13sZmlsZQ%3D%3D?line=17'>18</a>\u001b[0m                )\n\u001b[0;32m     <a href='vscode-notebook-cell:/c%3A/Users/Jhon/Documents/tjhonk_test/contextual_bandits_evaluation/intro_example.ipynb#X13sZmlsZQ%3D%3D?line=18'>19</a>\u001b[0m \u001b[39mfor\u001b[39;00m ax \u001b[39min\u001b[39;00m g\u001b[39m.\u001b[39maxes\u001b[39m.\u001b[39mflat:\n\u001b[0;32m     <a href='vscode-notebook-cell:/c%3A/Users/Jhon/Documents/tjhonk_test/contextual_bandits_evaluation/intro_example.ipynb#X13sZmlsZQ%3D%3D?line=19'>20</a>\u001b[0m     \u001b[39m#ax.set_yscale('log')\u001b[39;00m\n\u001b[0;32m     <a href='vscode-notebook-cell:/c%3A/Users/Jhon/Documents/tjhonk_test/contextual_bandits_evaluation/intro_example.ipynb#X13sZmlsZQ%3D%3D?line=20'>21</a>\u001b[0m     handles, labels \u001b[39m=\u001b[39m ax\u001b[39m.\u001b[39mget_legend_handles_labels()\n",
      "File \u001b[1;32mc:\\Python38\\lib\\site-packages\\seaborn\\_decorators.py:46\u001b[0m, in \u001b[0;36m_deprecate_positional_args.<locals>.inner_f\u001b[1;34m(*args, **kwargs)\u001b[0m\n\u001b[0;32m     36\u001b[0m     warnings\u001b[39m.\u001b[39mwarn(\n\u001b[0;32m     37\u001b[0m         \u001b[39m\"\u001b[39m\u001b[39mPass the following variable\u001b[39m\u001b[39m{}\u001b[39;00m\u001b[39m as \u001b[39m\u001b[39m{}\u001b[39;00m\u001b[39mkeyword arg\u001b[39m\u001b[39m{}\u001b[39;00m\u001b[39m: \u001b[39m\u001b[39m{}\u001b[39;00m\u001b[39m. \u001b[39m\u001b[39m\"\u001b[39m\n\u001b[0;32m     38\u001b[0m         \u001b[39m\"\u001b[39m\u001b[39mFrom version 0.12, the only valid positional argument \u001b[39m\u001b[39m\"\u001b[39m\n\u001b[1;32m   (...)\u001b[0m\n\u001b[0;32m     43\u001b[0m         \u001b[39mFutureWarning\u001b[39;00m\n\u001b[0;32m     44\u001b[0m     )\n\u001b[0;32m     45\u001b[0m kwargs\u001b[39m.\u001b[39mupdate({k: arg \u001b[39mfor\u001b[39;00m k, arg \u001b[39min\u001b[39;00m \u001b[39mzip\u001b[39m(sig\u001b[39m.\u001b[39mparameters, args)})\n\u001b[1;32m---> 46\u001b[0m \u001b[39mreturn\u001b[39;00m f(\u001b[39m*\u001b[39;49m\u001b[39m*\u001b[39;49mkwargs)\n",
      "File \u001b[1;32mc:\\Python38\\lib\\site-packages\\seaborn\\relational.py:1036\u001b[0m, in \u001b[0;36mrelplot\u001b[1;34m(x, y, hue, size, style, data, row, col, col_wrap, row_order, col_order, palette, hue_order, hue_norm, sizes, size_order, size_norm, markers, dashes, style_order, legend, kind, height, aspect, facet_kws, units, **kwargs)\u001b[0m\n\u001b[0;32m   1027\u001b[0m g \u001b[39m=\u001b[39m FacetGrid(\n\u001b[0;32m   1028\u001b[0m     data\u001b[39m=\u001b[39mfull_data\u001b[39m.\u001b[39mdropna(axis\u001b[39m=\u001b[39m\u001b[39m1\u001b[39m, how\u001b[39m=\u001b[39m\u001b[39m\"\u001b[39m\u001b[39mall\u001b[39m\u001b[39m\"\u001b[39m),\n\u001b[0;32m   1029\u001b[0m     \u001b[39m*\u001b[39m\u001b[39m*\u001b[39mgrid_kws,\n\u001b[1;32m   (...)\u001b[0m\n\u001b[0;32m   1032\u001b[0m     \u001b[39m*\u001b[39m\u001b[39m*\u001b[39mfacet_kws\n\u001b[0;32m   1033\u001b[0m )\n\u001b[0;32m   1035\u001b[0m \u001b[39m# Draw the plot\u001b[39;00m\n\u001b[1;32m-> 1036\u001b[0m g\u001b[39m.\u001b[39;49mmap_dataframe(func, \u001b[39m*\u001b[39;49m\u001b[39m*\u001b[39;49mplot_kws)\n\u001b[0;32m   1038\u001b[0m \u001b[39m# Label the axes\u001b[39;00m\n\u001b[0;32m   1039\u001b[0m g\u001b[39m.\u001b[39mset_axis_labels(\n\u001b[0;32m   1040\u001b[0m     variables\u001b[39m.\u001b[39mget(\u001b[39m\"\u001b[39m\u001b[39mx\u001b[39m\u001b[39m\"\u001b[39m, \u001b[39mNone\u001b[39;00m), variables\u001b[39m.\u001b[39mget(\u001b[39m\"\u001b[39m\u001b[39my\u001b[39m\u001b[39m\"\u001b[39m, \u001b[39mNone\u001b[39;00m)\n\u001b[0;32m   1041\u001b[0m )\n",
      "File \u001b[1;32mc:\\Python38\\lib\\site-packages\\seaborn\\axisgrid.py:777\u001b[0m, in \u001b[0;36mFacetGrid.map_dataframe\u001b[1;34m(self, func, *args, **kwargs)\u001b[0m\n\u001b[0;32m    774\u001b[0m     kwargs[\u001b[39m\"\u001b[39m\u001b[39mdata\u001b[39m\u001b[39m\"\u001b[39m] \u001b[39m=\u001b[39m data_ijk\n\u001b[0;32m    776\u001b[0m     \u001b[39m# Draw the plot\u001b[39;00m\n\u001b[1;32m--> 777\u001b[0m     \u001b[39mself\u001b[39;49m\u001b[39m.\u001b[39;49m_facet_plot(func, ax, args, kwargs)\n\u001b[0;32m    779\u001b[0m \u001b[39m# For axis labels, prefer to use positional args for backcompat\u001b[39;00m\n\u001b[0;32m    780\u001b[0m \u001b[39m# but also extract the x/y kwargs and use if no corresponding arg\u001b[39;00m\n\u001b[0;32m    781\u001b[0m axis_labels \u001b[39m=\u001b[39m [kwargs\u001b[39m.\u001b[39mget(\u001b[39m\"\u001b[39m\u001b[39mx\u001b[39m\u001b[39m\"\u001b[39m, \u001b[39mNone\u001b[39;00m), kwargs\u001b[39m.\u001b[39mget(\u001b[39m\"\u001b[39m\u001b[39my\u001b[39m\u001b[39m\"\u001b[39m, \u001b[39mNone\u001b[39;00m)]\n",
      "File \u001b[1;32mc:\\Python38\\lib\\site-packages\\seaborn\\axisgrid.py:806\u001b[0m, in \u001b[0;36mFacetGrid._facet_plot\u001b[1;34m(self, func, ax, plot_args, plot_kwargs)\u001b[0m\n\u001b[0;32m    804\u001b[0m     plot_args \u001b[39m=\u001b[39m []\n\u001b[0;32m    805\u001b[0m     plot_kwargs[\u001b[39m\"\u001b[39m\u001b[39max\u001b[39m\u001b[39m\"\u001b[39m] \u001b[39m=\u001b[39m ax\n\u001b[1;32m--> 806\u001b[0m func(\u001b[39m*\u001b[39;49mplot_args, \u001b[39m*\u001b[39;49m\u001b[39m*\u001b[39;49mplot_kwargs)\n\u001b[0;32m    808\u001b[0m \u001b[39m# Sort out the supporting information\u001b[39;00m\n\u001b[0;32m    809\u001b[0m \u001b[39mself\u001b[39m\u001b[39m.\u001b[39m_update_legend_data(ax)\n",
      "File \u001b[1;32mc:\\Python38\\lib\\site-packages\\seaborn\\_decorators.py:46\u001b[0m, in \u001b[0;36m_deprecate_positional_args.<locals>.inner_f\u001b[1;34m(*args, **kwargs)\u001b[0m\n\u001b[0;32m     36\u001b[0m     warnings\u001b[39m.\u001b[39mwarn(\n\u001b[0;32m     37\u001b[0m         \u001b[39m\"\u001b[39m\u001b[39mPass the following variable\u001b[39m\u001b[39m{}\u001b[39;00m\u001b[39m as \u001b[39m\u001b[39m{}\u001b[39;00m\u001b[39mkeyword arg\u001b[39m\u001b[39m{}\u001b[39;00m\u001b[39m: \u001b[39m\u001b[39m{}\u001b[39;00m\u001b[39m. \u001b[39m\u001b[39m\"\u001b[39m\n\u001b[0;32m     38\u001b[0m         \u001b[39m\"\u001b[39m\u001b[39mFrom version 0.12, the only valid positional argument \u001b[39m\u001b[39m\"\u001b[39m\n\u001b[1;32m   (...)\u001b[0m\n\u001b[0;32m     43\u001b[0m         \u001b[39mFutureWarning\u001b[39;00m\n\u001b[0;32m     44\u001b[0m     )\n\u001b[0;32m     45\u001b[0m kwargs\u001b[39m.\u001b[39mupdate({k: arg \u001b[39mfor\u001b[39;00m k, arg \u001b[39min\u001b[39;00m \u001b[39mzip\u001b[39m(sig\u001b[39m.\u001b[39mparameters, args)})\n\u001b[1;32m---> 46\u001b[0m \u001b[39mreturn\u001b[39;00m f(\u001b[39m*\u001b[39;49m\u001b[39m*\u001b[39;49mkwargs)\n",
      "File \u001b[1;32mc:\\Python38\\lib\\site-packages\\seaborn\\relational.py:710\u001b[0m, in \u001b[0;36mlineplot\u001b[1;34m(x, y, hue, size, style, data, palette, hue_order, hue_norm, sizes, size_order, size_norm, dashes, markers, style_order, units, estimator, ci, n_boot, seed, sort, err_style, err_kws, legend, ax, **kwargs)\u001b[0m\n\u001b[0;32m    706\u001b[0m     \u001b[39mreturn\u001b[39;00m ax\n\u001b[0;32m    708\u001b[0m p\u001b[39m.\u001b[39m_attach(ax)\n\u001b[1;32m--> 710\u001b[0m p\u001b[39m.\u001b[39;49mplot(ax, kwargs)\n\u001b[0;32m    711\u001b[0m \u001b[39mreturn\u001b[39;00m ax\n",
      "File \u001b[1;32mc:\\Python38\\lib\\site-packages\\seaborn\\relational.py:471\u001b[0m, in \u001b[0;36m_LinePlotter.plot\u001b[1;34m(self, ax, kws)\u001b[0m\n\u001b[0;32m    469\u001b[0m \u001b[39m# Loop over the semantic subsets and add to the plot\u001b[39;00m\n\u001b[0;32m    470\u001b[0m grouping_vars \u001b[39m=\u001b[39m \u001b[39m\"\u001b[39m\u001b[39mhue\u001b[39m\u001b[39m\"\u001b[39m, \u001b[39m\"\u001b[39m\u001b[39msize\u001b[39m\u001b[39m\"\u001b[39m, \u001b[39m\"\u001b[39m\u001b[39mstyle\u001b[39m\u001b[39m\"\u001b[39m\n\u001b[1;32m--> 471\u001b[0m \u001b[39mfor\u001b[39;00m sub_vars, sub_data \u001b[39min\u001b[39;00m \u001b[39mself\u001b[39m\u001b[39m.\u001b[39miter_data(grouping_vars, from_comp_data\u001b[39m=\u001b[39m\u001b[39mTrue\u001b[39;00m):\n\u001b[0;32m    473\u001b[0m     \u001b[39mif\u001b[39;00m \u001b[39mself\u001b[39m\u001b[39m.\u001b[39msort:\n\u001b[0;32m    474\u001b[0m         sort_vars \u001b[39m=\u001b[39m [\u001b[39m\"\u001b[39m\u001b[39munits\u001b[39m\u001b[39m\"\u001b[39m, \u001b[39m\"\u001b[39m\u001b[39mx\u001b[39m\u001b[39m\"\u001b[39m, \u001b[39m\"\u001b[39m\u001b[39my\u001b[39m\u001b[39m\"\u001b[39m]\n",
      "File \u001b[1;32mc:\\Python38\\lib\\site-packages\\seaborn\\_core.py:983\u001b[0m, in \u001b[0;36mVectorPlotter.iter_data\u001b[1;34m(self, grouping_vars, reverse, from_comp_data)\u001b[0m\n\u001b[0;32m    978\u001b[0m grouping_vars \u001b[39m=\u001b[39m [\n\u001b[0;32m    979\u001b[0m     var \u001b[39mfor\u001b[39;00m var \u001b[39min\u001b[39;00m grouping_vars \u001b[39mif\u001b[39;00m var \u001b[39min\u001b[39;00m \u001b[39mself\u001b[39m\u001b[39m.\u001b[39mvariables\n\u001b[0;32m    980\u001b[0m ]\n\u001b[0;32m    982\u001b[0m \u001b[39mif\u001b[39;00m from_comp_data:\n\u001b[1;32m--> 983\u001b[0m     data \u001b[39m=\u001b[39m \u001b[39mself\u001b[39;49m\u001b[39m.\u001b[39;49mcomp_data\n\u001b[0;32m    984\u001b[0m \u001b[39melse\u001b[39;00m:\n\u001b[0;32m    985\u001b[0m     data \u001b[39m=\u001b[39m \u001b[39mself\u001b[39m\u001b[39m.\u001b[39mplot_data\n",
      "File \u001b[1;32mc:\\Python38\\lib\\site-packages\\seaborn\\_core.py:1057\u001b[0m, in \u001b[0;36mVectorPlotter.comp_data\u001b[1;34m(self)\u001b[0m\n\u001b[0;32m   1055\u001b[0m     orig \u001b[39m=\u001b[39m \u001b[39mself\u001b[39m\u001b[39m.\u001b[39mplot_data[var]\u001b[39m.\u001b[39mdropna()\n\u001b[0;32m   1056\u001b[0m comp_col \u001b[39m=\u001b[39m pd\u001b[39m.\u001b[39mSeries(index\u001b[39m=\u001b[39morig\u001b[39m.\u001b[39mindex, dtype\u001b[39m=\u001b[39m\u001b[39mfloat\u001b[39m, name\u001b[39m=\u001b[39mvar)\n\u001b[1;32m-> 1057\u001b[0m comp_col\u001b[39m.\u001b[39mloc[orig\u001b[39m.\u001b[39mindex] \u001b[39m=\u001b[39m pd\u001b[39m.\u001b[39mto_numeric(axis\u001b[39m.\u001b[39mconvert_units(orig))\n\u001b[0;32m   1059\u001b[0m \u001b[39mif\u001b[39;00m axis\u001b[39m.\u001b[39mget_scale() \u001b[39m==\u001b[39m \u001b[39m\"\u001b[39m\u001b[39mlog\u001b[39m\u001b[39m\"\u001b[39m:\n\u001b[0;32m   1060\u001b[0m     comp_col \u001b[39m=\u001b[39m np\u001b[39m.\u001b[39mlog10(comp_col)\n",
      "File \u001b[1;32mc:\\Python38\\lib\\site-packages\\pandas\\core\\indexing.py:716\u001b[0m, in \u001b[0;36m_LocationIndexer.__setitem__\u001b[1;34m(self, key, value)\u001b[0m\n\u001b[0;32m    713\u001b[0m \u001b[39mself\u001b[39m\u001b[39m.\u001b[39m_has_valid_setitem_indexer(key)\n\u001b[0;32m    715\u001b[0m iloc \u001b[39m=\u001b[39m \u001b[39mself\u001b[39m \u001b[39mif\u001b[39;00m \u001b[39mself\u001b[39m\u001b[39m.\u001b[39mname \u001b[39m==\u001b[39m \u001b[39m\"\u001b[39m\u001b[39miloc\u001b[39m\u001b[39m\"\u001b[39m \u001b[39melse\u001b[39;00m \u001b[39mself\u001b[39m\u001b[39m.\u001b[39mobj\u001b[39m.\u001b[39miloc\n\u001b[1;32m--> 716\u001b[0m iloc\u001b[39m.\u001b[39;49m_setitem_with_indexer(indexer, value, \u001b[39mself\u001b[39;49m\u001b[39m.\u001b[39;49mname)\n",
      "File \u001b[1;32mc:\\Python38\\lib\\site-packages\\pandas\\core\\indexing.py:1690\u001b[0m, in \u001b[0;36m_iLocIndexer._setitem_with_indexer\u001b[1;34m(self, indexer, value, name)\u001b[0m\n\u001b[0;32m   1688\u001b[0m     \u001b[39mself\u001b[39m\u001b[39m.\u001b[39m_setitem_with_indexer_split_path(indexer, value, name)\n\u001b[0;32m   1689\u001b[0m \u001b[39melse\u001b[39;00m:\n\u001b[1;32m-> 1690\u001b[0m     \u001b[39mself\u001b[39;49m\u001b[39m.\u001b[39;49m_setitem_single_block(indexer, value, name)\n",
      "File \u001b[1;32mc:\\Python38\\lib\\site-packages\\pandas\\core\\indexing.py:1929\u001b[0m, in \u001b[0;36m_iLocIndexer._setitem_single_block\u001b[1;34m(self, indexer, value, name)\u001b[0m\n\u001b[0;32m   1923\u001b[0m     indexer \u001b[39m=\u001b[39m maybe_convert_ix(\u001b[39m*\u001b[39mindexer)  \u001b[39m# e.g. test_setitem_frame_align\u001b[39;00m\n\u001b[0;32m   1925\u001b[0m \u001b[39mif\u001b[39;00m (\u001b[39misinstance\u001b[39m(value, ABCSeries) \u001b[39mand\u001b[39;00m name \u001b[39m!=\u001b[39m \u001b[39m\"\u001b[39m\u001b[39miloc\u001b[39m\u001b[39m\"\u001b[39m) \u001b[39mor\u001b[39;00m \u001b[39misinstance\u001b[39m(value, \u001b[39mdict\u001b[39m):\n\u001b[0;32m   1926\u001b[0m     \u001b[39m# TODO(EA): ExtensionBlock.setitem this causes issues with\u001b[39;00m\n\u001b[0;32m   1927\u001b[0m     \u001b[39m# setting for extensionarrays that store dicts. Need to decide\u001b[39;00m\n\u001b[0;32m   1928\u001b[0m     \u001b[39m# if it's worth supporting that.\u001b[39;00m\n\u001b[1;32m-> 1929\u001b[0m     value \u001b[39m=\u001b[39m \u001b[39mself\u001b[39;49m\u001b[39m.\u001b[39;49m_align_series(indexer, Series(value))\n\u001b[0;32m   1931\u001b[0m \u001b[39melif\u001b[39;00m \u001b[39misinstance\u001b[39m(value, ABCDataFrame) \u001b[39mand\u001b[39;00m name \u001b[39m!=\u001b[39m \u001b[39m\"\u001b[39m\u001b[39miloc\u001b[39m\u001b[39m\"\u001b[39m:\n\u001b[0;32m   1932\u001b[0m     value \u001b[39m=\u001b[39m \u001b[39mself\u001b[39m\u001b[39m.\u001b[39m_align_frame(indexer, value)\n",
      "File \u001b[1;32mc:\\Python38\\lib\\site-packages\\pandas\\core\\indexing.py:2091\u001b[0m, in \u001b[0;36m_iLocIndexer._align_series\u001b[1;34m(self, indexer, ser, multiindex_indexer)\u001b[0m\n\u001b[0;32m   2089\u001b[0m \u001b[39mif\u001b[39;00m obj\u001b[39m.\u001b[39mndim \u001b[39m==\u001b[39m \u001b[39m2\u001b[39m \u001b[39mand\u001b[39;00m is_empty_indexer(indexer[\u001b[39m0\u001b[39m], ser\u001b[39m.\u001b[39m_values):\n\u001b[0;32m   2090\u001b[0m     \u001b[39mreturn\u001b[39;00m ser\u001b[39m.\u001b[39m_values\u001b[39m.\u001b[39mcopy()\n\u001b[1;32m-> 2091\u001b[0m ser \u001b[39m=\u001b[39m ser\u001b[39m.\u001b[39;49mreindex(obj\u001b[39m.\u001b[39;49maxes[\u001b[39m0\u001b[39;49m][indexer[\u001b[39m0\u001b[39;49m]], copy\u001b[39m=\u001b[39;49m\u001b[39mTrue\u001b[39;49;00m)\u001b[39m.\u001b[39m_values\n\u001b[0;32m   2093\u001b[0m \u001b[39m# single indexer\u001b[39;00m\n\u001b[0;32m   2094\u001b[0m \u001b[39mif\u001b[39;00m \u001b[39mlen\u001b[39m(indexer) \u001b[39m>\u001b[39m \u001b[39m1\u001b[39m \u001b[39mand\u001b[39;00m \u001b[39mnot\u001b[39;00m multiindex_indexer:\n",
      "File \u001b[1;32mc:\\Python38\\lib\\site-packages\\pandas\\core\\series.py:4672\u001b[0m, in \u001b[0;36mSeries.reindex\u001b[1;34m(self, *args, **kwargs)\u001b[0m\n\u001b[0;32m   4668\u001b[0m         \u001b[39mraise\u001b[39;00m \u001b[39mTypeError\u001b[39;00m(\n\u001b[0;32m   4669\u001b[0m             \u001b[39m\"\u001b[39m\u001b[39m'\u001b[39m\u001b[39mindex\u001b[39m\u001b[39m'\u001b[39m\u001b[39m passed as both positional and keyword argument\u001b[39m\u001b[39m\"\u001b[39m\n\u001b[0;32m   4670\u001b[0m         )\n\u001b[0;32m   4671\u001b[0m     kwargs\u001b[39m.\u001b[39mupdate({\u001b[39m\"\u001b[39m\u001b[39mindex\u001b[39m\u001b[39m\"\u001b[39m: index})\n\u001b[1;32m-> 4672\u001b[0m \u001b[39mreturn\u001b[39;00m \u001b[39msuper\u001b[39;49m()\u001b[39m.\u001b[39;49mreindex(\u001b[39m*\u001b[39;49m\u001b[39m*\u001b[39;49mkwargs)\n",
      "File \u001b[1;32mc:\\Python38\\lib\\site-packages\\pandas\\core\\generic.py:4966\u001b[0m, in \u001b[0;36mNDFrame.reindex\u001b[1;34m(self, *args, **kwargs)\u001b[0m\n\u001b[0;32m   4963\u001b[0m     \u001b[39mreturn\u001b[39;00m \u001b[39mself\u001b[39m\u001b[39m.\u001b[39m_reindex_multi(axes, copy, fill_value)\n\u001b[0;32m   4965\u001b[0m \u001b[39m# perform the reindex on the axes\u001b[39;00m\n\u001b[1;32m-> 4966\u001b[0m \u001b[39mreturn\u001b[39;00m \u001b[39mself\u001b[39;49m\u001b[39m.\u001b[39;49m_reindex_axes(\n\u001b[0;32m   4967\u001b[0m     axes, level, limit, tolerance, method, fill_value, copy\n\u001b[0;32m   4968\u001b[0m )\u001b[39m.\u001b[39m__finalize__(\u001b[39mself\u001b[39m, method\u001b[39m=\u001b[39m\u001b[39m\"\u001b[39m\u001b[39mreindex\u001b[39m\u001b[39m\"\u001b[39m)\n",
      "File \u001b[1;32mc:\\Python38\\lib\\site-packages\\pandas\\core\\generic.py:4986\u001b[0m, in \u001b[0;36mNDFrame._reindex_axes\u001b[1;34m(self, axes, level, limit, tolerance, method, fill_value, copy)\u001b[0m\n\u001b[0;32m   4981\u001b[0m new_index, indexer \u001b[39m=\u001b[39m ax\u001b[39m.\u001b[39mreindex(\n\u001b[0;32m   4982\u001b[0m     labels, level\u001b[39m=\u001b[39mlevel, limit\u001b[39m=\u001b[39mlimit, tolerance\u001b[39m=\u001b[39mtolerance, method\u001b[39m=\u001b[39mmethod\n\u001b[0;32m   4983\u001b[0m )\n\u001b[0;32m   4985\u001b[0m axis \u001b[39m=\u001b[39m \u001b[39mself\u001b[39m\u001b[39m.\u001b[39m_get_axis_number(a)\n\u001b[1;32m-> 4986\u001b[0m obj \u001b[39m=\u001b[39m obj\u001b[39m.\u001b[39;49m_reindex_with_indexers(\n\u001b[0;32m   4987\u001b[0m     {axis: [new_index, indexer]},\n\u001b[0;32m   4988\u001b[0m     fill_value\u001b[39m=\u001b[39;49mfill_value,\n\u001b[0;32m   4989\u001b[0m     copy\u001b[39m=\u001b[39;49mcopy,\n\u001b[0;32m   4990\u001b[0m     allow_dups\u001b[39m=\u001b[39;49m\u001b[39mFalse\u001b[39;49;00m,\n\u001b[0;32m   4991\u001b[0m )\n\u001b[0;32m   4992\u001b[0m \u001b[39m# If we've made a copy once, no need to make another one\u001b[39;00m\n\u001b[0;32m   4993\u001b[0m copy \u001b[39m=\u001b[39m \u001b[39mFalse\u001b[39;00m\n",
      "File \u001b[1;32mc:\\Python38\\lib\\site-packages\\pandas\\core\\generic.py:5032\u001b[0m, in \u001b[0;36mNDFrame._reindex_with_indexers\u001b[1;34m(self, reindexers, fill_value, copy, allow_dups)\u001b[0m\n\u001b[0;32m   5029\u001b[0m     indexer \u001b[39m=\u001b[39m ensure_platform_int(indexer)\n\u001b[0;32m   5031\u001b[0m \u001b[39m# TODO: speed up on homogeneous DataFrame objects (see _reindex_multi)\u001b[39;00m\n\u001b[1;32m-> 5032\u001b[0m new_data \u001b[39m=\u001b[39m new_data\u001b[39m.\u001b[39;49mreindex_indexer(\n\u001b[0;32m   5033\u001b[0m     index,\n\u001b[0;32m   5034\u001b[0m     indexer,\n\u001b[0;32m   5035\u001b[0m     axis\u001b[39m=\u001b[39;49mbaxis,\n\u001b[0;32m   5036\u001b[0m     fill_value\u001b[39m=\u001b[39;49mfill_value,\n\u001b[0;32m   5037\u001b[0m     allow_dups\u001b[39m=\u001b[39;49mallow_dups,\n\u001b[0;32m   5038\u001b[0m     copy\u001b[39m=\u001b[39;49mcopy,\n\u001b[0;32m   5039\u001b[0m )\n\u001b[0;32m   5040\u001b[0m \u001b[39m# If we've made a copy once, no need to make another one\u001b[39;00m\n\u001b[0;32m   5041\u001b[0m copy \u001b[39m=\u001b[39m \u001b[39mFalse\u001b[39;00m\n",
      "File \u001b[1;32mc:\\Python38\\lib\\site-packages\\pandas\\core\\internals\\managers.py:679\u001b[0m, in \u001b[0;36mBaseBlockManager.reindex_indexer\u001b[1;34m(self, new_axis, indexer, axis, fill_value, allow_dups, copy, consolidate, only_slice, use_na_proxy)\u001b[0m\n\u001b[0;32m    677\u001b[0m \u001b[39m# some axes don't allow reindexing with dups\u001b[39;00m\n\u001b[0;32m    678\u001b[0m \u001b[39mif\u001b[39;00m \u001b[39mnot\u001b[39;00m allow_dups:\n\u001b[1;32m--> 679\u001b[0m     \u001b[39mself\u001b[39;49m\u001b[39m.\u001b[39;49maxes[axis]\u001b[39m.\u001b[39;49m_validate_can_reindex(indexer)\n\u001b[0;32m    681\u001b[0m \u001b[39mif\u001b[39;00m axis \u001b[39m>\u001b[39m\u001b[39m=\u001b[39m \u001b[39mself\u001b[39m\u001b[39m.\u001b[39mndim:\n\u001b[0;32m    682\u001b[0m     \u001b[39mraise\u001b[39;00m \u001b[39mIndexError\u001b[39;00m(\u001b[39m\"\u001b[39m\u001b[39mRequested axis not found in manager\u001b[39m\u001b[39m\"\u001b[39m)\n",
      "File \u001b[1;32mc:\\Python38\\lib\\site-packages\\pandas\\core\\indexes\\base.py:4107\u001b[0m, in \u001b[0;36mIndex._validate_can_reindex\u001b[1;34m(self, indexer)\u001b[0m\n\u001b[0;32m   4105\u001b[0m \u001b[39m# trying to reindex on an axis with duplicates\u001b[39;00m\n\u001b[0;32m   4106\u001b[0m \u001b[39mif\u001b[39;00m \u001b[39mnot\u001b[39;00m \u001b[39mself\u001b[39m\u001b[39m.\u001b[39m_index_as_unique \u001b[39mand\u001b[39;00m \u001b[39mlen\u001b[39m(indexer):\n\u001b[1;32m-> 4107\u001b[0m     \u001b[39mraise\u001b[39;00m \u001b[39mValueError\u001b[39;00m(\u001b[39m\"\u001b[39m\u001b[39mcannot reindex on an axis with duplicate labels\u001b[39m\u001b[39m\"\u001b[39m)\n",
      "\u001b[1;31mValueError\u001b[0m: cannot reindex on an axis with duplicate labels"
     ]
    },
    {
     "data": {
      "image/png": "[encoded data removed]",
      "text/plain": [
       "<Figure size 360x360 with 1 Axes>"
      ]
     },
     "metadata": {},
     "output_type": "display_data"
    }
   ],
   "source": [
    "sns.set_context(font_scale=2)\n",
    "cond_var = 1 / np.array(Probs)\n",
    "idx = np.arange(0,T,T//100)\n",
    "df = []\n",
    "for i in range(K):\n",
    "    df.append(pd.DataFrame({'$1/e_t$': np.concatenate(cond_var[:, idx, i], axis=0), 't': np.tile(idx, sim), \n",
    "                            'Value':[str(i)]*(len(idx)*sim), 'Style':[0]*(len(idx)*sim)}))\n",
    "df.append(pd.DataFrame({'$1/e_t$': np.concatenate(cond_var[:, idx, :], axis=0).dot(p_X), 't': np.tile(idx, sim), \n",
    "                        'Value':['E']*(len(idx)*sim), 'Style':[1]*(len(idx)*sim)}))\n",
    "df = pd.concat(df)\n",
    "hue_order = [str(i) for i in range(K)]\n",
    "hue_order.append('E')\n",
    "g = sns.relplot(data=df, kind='line', x='t', y='$1/e_t$', hue='Value', \n",
    "                aspect=1.0, \n",
    "                hue_order=hue_order,\n",
    "                palette=[*sns.color_palette()[:K], 'k'],\n",
    "                style='Style',\n",
    "               )\n",
    "for ax in g.axes.flat:\n",
    "    #ax.set_yscale('log')\n",
    "    handles, labels = ax.get_legend_handles_labels()\n",
    "g.set_ylabels(\"Variance proxy\")\n",
    "g.set_xlabels(\"t\")\n",
    "handles = [*handles[1:(K+1)], handles[-1]]\n",
    "labels_X = [f'$x_{i}$' for i in range(K)]\n",
    "labels =  [\n",
    "           *labels_X, \n",
    "           '$E_x$']\n",
    "g._legend.remove()\n",
    "g.fig.tight_layout()\n",
    "g.fig.legend(labels=labels, handles=handles, fontsize=18, loc='center left', frameon=False, bbox_to_anchor=(0.95, 0.5) )\n",
    "plt.savefig('motivation_contextual.pdf', bbox_inches='tight')"
   ]
  },
  {
   "cell_type": "code",
   "execution_count": null,
   "metadata": {},
   "outputs": [],
   "source": []
  }
 ],
 "metadata": {
  "kernelspec": {
   "display_name": "Python 3.8.0 64-bit",
   "language": "python",
   "name": "python3"
  },
  "language_info": {
   "codemirror_mode": {
    "name": "ipython",
    "version": 3
   },
   "file_extension": ".py",
   "mimetype": "text/x-python",
   "name": "python",
   "nbconvert_exporter": "python",
   "pygments_lexer": "ipython3",
   "version": "3.8.0"
  },
  "vscode": {
   "interpreter": {
    "hash": "9650cb4e16cdd4a8e8e2d128bf38d875813998db22a3c986335f89e0cb4d7bb2"
   }
  }
 },
 "nbformat": 4,
 "nbformat_minor": 4
}
